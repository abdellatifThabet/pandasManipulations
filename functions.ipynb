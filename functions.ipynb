{
 "cells": [
  {
   "cell_type": "code",
   "execution_count": 16,
   "id": "72b7ea29-adbb-45bd-bb5d-86d9385b8e49",
   "metadata": {},
   "outputs": [],
   "source": [
    "## first function to create rarity score csv file"
   ]
  },
  {
   "cell_type": "code",
   "execution_count": 1,
   "id": "ebc57dc7-c3db-4a15-9068-97594f49c7e5",
   "metadata": {},
   "outputs": [],
   "source": [
    "import pandas as pd\n",
    "import numpy as np\n",
    "import math\n",
    "import os"
   ]
  },
  {
   "cell_type": "code",
   "execution_count": 4,
   "id": "0cbd0461-d849-4cfa-b65f-42e890ff1108",
   "metadata": {},
   "outputs": [],
   "source": [
    "def get_rarity():\n",
    "    print('This script will generate a csv file contains rarity scores!')\n",
    "    print('please enter the file path : ')\n",
    "    path_to_file = input()\n",
    "    df = pd.read_csv(path_to_file)\n",
    "    df = df.melt(id_vars=[\"id\",\"name\",\"description\",\"image\"], \n",
    "        var_name=\"trait_type\", \n",
    "        value_name=\"value\")\n",
    "    \n",
    "    df = df[[\"id\",\"trait_type\",\"value\"]]\n",
    "    total = df['id'].nunique()\n",
    "    \n",
    "    count_list = df.groupby([\"trait_type\", \"value\"]).count()\n",
    "    count_list.reset_index(inplace=True)  \n",
    "    count_list.rename(columns={'id': 'count'}, inplace=True)\n",
    "    \n",
    "    count_list['rarity'] = np.nan\n",
    "    count_list['weight'] = 1\n",
    "    \n",
    "    for index in range(0, len(count_list)):\n",
    "        if(str(count_list.iloc[index]['value']) == 'nan'):\n",
    "            continue\n",
    "        else:\n",
    "            count_list.at[index,'rarity'] = (total/count_list.iloc[index]['count'])*count_list.iloc[index]['weight']\n",
    "\n",
    "\n",
    "    count_list['rarity'] = count_list['rarity'].astype('float64').round(2) \n",
    "    \n",
    "    head, tail = os.path.split(path_to_file)\n",
    "    #df = df.set_index('id')\n",
    "    count_list.to_csv(head+\"rarity_\"+tail)\n",
    "    return"
   ]
  },
  {
   "cell_type": "code",
   "execution_count": 5,
   "id": "82c18e73-5c56-4b9f-982b-2af2eaaaa100",
   "metadata": {},
   "outputs": [
    {
     "name": "stdout",
     "output_type": "stream",
     "text": [
      "This script will generate a csv file contains rarity scores!\n",
      "please enter the file path : \n"
     ]
    },
    {
     "name": "stdin",
     "output_type": "stream",
     "text": [
      " result_svs.csv\n"
     ]
    }
   ],
   "source": [
    "get_rarity()"
   ]
  },
  {
   "cell_type": "code",
   "execution_count": 19,
   "id": "7de9481f-2bce-444b-8d48-bbd81a6032ee",
   "metadata": {},
   "outputs": [],
   "source": [
    "## second function to update weight value in csv rarity file "
   ]
  },
  {
   "cell_type": "code",
   "execution_count": 47,
   "id": "a5cdb443-526c-469a-8bb8-165ba4e08d3d",
   "metadata": {},
   "outputs": [],
   "source": [
    "def update_weight():\n",
    "    print('this script aims to update a weight of certain value ! ')\n",
    "    print('please enter the file path : ')\n",
    "    path_to_file = input()\n",
    "    print(\"type value name you want to change its weight: \")\n",
    "    val = input()\n",
    "    print(\"type the new weight value :\")\n",
    "    weight = int(input())\n",
    "    df = pd.read_csv(path_to_file, index_col=[0])\n",
    "    total = df['id'].nunique()\n",
    "    df.loc[df['value'] == val, 'weight'] = weight\n",
    "    for index in range(0, len(df)):\n",
    "        if(str(df.iloc[index]['value']) == 'nan'):\n",
    "            continue\n",
    "        else:\n",
    "            df.at[index,'rarity'] = (total/df.iloc[index]['count'])*df.iloc[index]['weight']\n",
    "\n",
    "\n",
    "    df['rarity'] = df['rarity'].astype('float64').round(2) \n",
    "    df = df.set_index('id')\n",
    "    df.to_csv(path_to_file)\n",
    "    return"
   ]
  },
  {
   "cell_type": "code",
   "execution_count": 48,
   "id": "72f7d154-6977-4f28-a274-1761f5eef64f",
   "metadata": {},
   "outputs": [
    {
     "name": "stdout",
     "output_type": "stream",
     "text": [
      "type value name you want to change its weight: \n"
     ]
    },
    {
     "name": "stdin",
     "output_type": "stream",
     "text": [
      " \n"
     ]
    },
    {
     "name": "stdout",
     "output_type": "stream",
     "text": [
      "type the new weight value :\n"
     ]
    },
    {
     "name": "stdin",
     "output_type": "stream",
     "text": [
      " \n"
     ]
    },
    {
     "ename": "ValueError",
     "evalue": "invalid literal for int() with base 10: ''",
     "output_type": "error",
     "traceback": [
      "\u001b[0;31m---------------------------------------------------------------------------\u001b[0m",
      "\u001b[0;31mValueError\u001b[0m                                Traceback (most recent call last)",
      "\u001b[0;32m<ipython-input-48-4e915be2bd39>\u001b[0m in \u001b[0;36m<module>\u001b[0;34m\u001b[0m\n\u001b[0;32m----> 1\u001b[0;31m \u001b[0mupdate_weight\u001b[0m\u001b[0;34m(\u001b[0m\u001b[0;34m'rarity_result_uni.csv'\u001b[0m\u001b[0;34m)\u001b[0m\u001b[0;34m\u001b[0m\u001b[0;34m\u001b[0m\u001b[0m\n\u001b[0m",
      "\u001b[0;32m<ipython-input-47-85542fc4f1f6>\u001b[0m in \u001b[0;36mupdate_weight\u001b[0;34m(path_to_file)\u001b[0m\n\u001b[1;32m      3\u001b[0m     \u001b[0mval\u001b[0m \u001b[0;34m=\u001b[0m \u001b[0minput\u001b[0m\u001b[0;34m(\u001b[0m\u001b[0;34m)\u001b[0m\u001b[0;34m\u001b[0m\u001b[0;34m\u001b[0m\u001b[0m\n\u001b[1;32m      4\u001b[0m     \u001b[0mprint\u001b[0m\u001b[0;34m(\u001b[0m\u001b[0;34m\"type the new weight value :\"\u001b[0m\u001b[0;34m)\u001b[0m\u001b[0;34m\u001b[0m\u001b[0;34m\u001b[0m\u001b[0m\n\u001b[0;32m----> 5\u001b[0;31m     \u001b[0mweight\u001b[0m \u001b[0;34m=\u001b[0m \u001b[0mint\u001b[0m\u001b[0;34m(\u001b[0m\u001b[0minput\u001b[0m\u001b[0;34m(\u001b[0m\u001b[0;34m)\u001b[0m\u001b[0;34m)\u001b[0m\u001b[0;34m\u001b[0m\u001b[0;34m\u001b[0m\u001b[0m\n\u001b[0m\u001b[1;32m      6\u001b[0m     \u001b[0mdf\u001b[0m \u001b[0;34m=\u001b[0m \u001b[0mpd\u001b[0m\u001b[0;34m.\u001b[0m\u001b[0mread_csv\u001b[0m\u001b[0;34m(\u001b[0m\u001b[0mpath_to_file\u001b[0m\u001b[0;34m,\u001b[0m \u001b[0mindex_col\u001b[0m\u001b[0;34m=\u001b[0m\u001b[0;34m[\u001b[0m\u001b[0;36m0\u001b[0m\u001b[0;34m]\u001b[0m\u001b[0;34m)\u001b[0m\u001b[0;34m\u001b[0m\u001b[0;34m\u001b[0m\u001b[0m\n\u001b[1;32m      7\u001b[0m     \u001b[0mtotal\u001b[0m \u001b[0;34m=\u001b[0m \u001b[0mdf\u001b[0m\u001b[0;34m[\u001b[0m\u001b[0;34m'id'\u001b[0m\u001b[0;34m]\u001b[0m\u001b[0;34m.\u001b[0m\u001b[0mnunique\u001b[0m\u001b[0;34m(\u001b[0m\u001b[0;34m)\u001b[0m\u001b[0;34m\u001b[0m\u001b[0;34m\u001b[0m\u001b[0m\n",
      "\u001b[0;31mValueError\u001b[0m: invalid literal for int() with base 10: ''"
     ]
    }
   ],
   "source": [
    "update_weight()"
   ]
  },
  {
   "cell_type": "code",
   "execution_count": 31,
   "id": "5da0e624-8bbd-4a5e-a20e-986bfcf38774",
   "metadata": {},
   "outputs": [],
   "source": [
    "## third function to compute score for each row"
   ]
  },
  {
   "cell_type": "code",
   "execution_count": 6,
   "id": "86ea48d8-8e53-4096-993f-048844f293ce",
   "metadata": {},
   "outputs": [],
   "source": [
    "def compute_score():\n",
    "    print(\"in this script you have to set two arguments the first one is the path to the original csv file and the second argument is the path to the rarity file\")\n",
    "    print(\"type path to original csv file\")\n",
    "    patho = input()\n",
    "    print(\"type path to file contains rarity scores\")\n",
    "    pathr = input()\n",
    "    dfo = pd.read_csv(patho, index_col=[0])\n",
    "    dfr = pd.read_csv(pathr, index_col=[0])            \n",
    "    dfo['total_score'] = np.nan\n",
    "    index = 0\n",
    "    for row in dfo.iterrows():\n",
    "        score = 0\n",
    "        for col in range(3,len(dfo.columns)-1):\n",
    "            if(str(row[1][col]) == 'nan'):\n",
    "                continue\n",
    "            else:\n",
    "                col_name = dfo.columns[col]\n",
    "                col_value = row[1][col]\n",
    "                score = score + float(dfr.loc[(dfr.trait_type == col_name)&(dfr.value == str(col_value)), 'rarity'])\n",
    "        dfo.loc[row[0],'total_score'] = score\n",
    "        index = index+1\n",
    "    \n",
    "    head, tail = os.path.split(patho)\n",
    "    dfo.to_csv(head+\"final_\"+tail)\n",
    "    return"
   ]
  },
  {
   "cell_type": "code",
   "execution_count": 7,
   "id": "80a9110f-71a3-4217-85da-497b41ddf002",
   "metadata": {},
   "outputs": [
    {
     "name": "stdout",
     "output_type": "stream",
     "text": [
      "in this script you have to set two arguments the first one is the path to the original csv file and the second argument is the path to the rarity file\n",
      "type path to original csv file\n"
     ]
    },
    {
     "name": "stdin",
     "output_type": "stream",
     "text": [
      " result_svs.csv\n"
     ]
    },
    {
     "name": "stdout",
     "output_type": "stream",
     "text": [
      "type path to file contains rarity scores\n"
     ]
    },
    {
     "name": "stdin",
     "output_type": "stream",
     "text": [
      " rarity_result_svs.csv\n"
     ]
    }
   ],
   "source": [
    "compute_score()"
   ]
  },
  {
   "cell_type": "code",
   "execution_count": null,
   "id": "33e008bd-b650-451f-b9c4-d34428e53bc7",
   "metadata": {},
   "outputs": [],
   "source": [
    "result_svs.csv\n",
    "rarity_result_svs.csv"
   ]
  },
  {
   "cell_type": "code",
   "execution_count": null,
   "id": "260e4127-d8bd-47c2-ba92-a66c68904fbe",
   "metadata": {},
   "outputs": [],
   "source": [
    "rarity_result_svs.csv"
   ]
  }
 ],
 "metadata": {
  "kernelspec": {
   "display_name": "Python 3",
   "language": "python",
   "name": "python3"
  },
  "language_info": {
   "codemirror_mode": {
    "name": "ipython",
    "version": 3
   },
   "file_extension": ".py",
   "mimetype": "text/x-python",
   "name": "python",
   "nbconvert_exporter": "python",
   "pygments_lexer": "ipython3",
   "version": "3.7.9"
  }
 },
 "nbformat": 4,
 "nbformat_minor": 5
}
